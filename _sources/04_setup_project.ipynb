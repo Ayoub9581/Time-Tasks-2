{
 "cells": [
  {
   "cell_type": "markdown",
   "metadata": {},
   "source": [
    "# Setup Project\n",
    "Naturally, we need a django project setup. Let's do that here.\n",
    "\n",
    "## Activate Virtual Environment\n",
    "We did this {ref}`install:using_virtualenv`\n",
    "\n",
    "\n"
   ]
  },
  {
   "cell_type": "markdown",
   "metadata": {},
   "source": [
    "## Install Required Packages\n",
    "\n",
    "The required packages are:\n",
    "\n",
    "- `Django==3.1.2` [docs](https://www.djangoproject.com/)\n",
    "- `celery` [docs](https://docs.celeryproject.org/en/stable/getting-started/introduction.html)\n",
    "- `redis` [repo](https://github.com/andymccurdy/redis-py)\n",
    "- `django-celery-beat` [repo](https://github.com/celery/django-celery-beat) | [docs](https://django-celery-beat.readthedocs.io/en/latest/)\n",
    "- `django-celery-results` [repo](https://github.com/celery/django-celery-results) | [docs](https://django-celery-results.readthedocs.io/en/latest/)\n",
    "\n",
    "\n",
    "\n",
    "\n",
    "```console\n",
    "cd path/to/virtualenv/dir/\n",
    "```\n",
    "Activate virtual environment\n",
    "\n",
    "mac/linux\n",
    "```console\n",
    "source bin/activate\n",
    "```\n",
    "windows\n",
    "```\n",
    ".\\Scripts\\activate\n",
    "```\n",
    "\n",
    "\n",
    "\n",
    "To install,:\n",
    "\n",
    "```console\n",
    "pip install django==3.1.2 celery redis django-celery-beat django-celery-results\n",
    "```\n",
    "\n",
    "> If you're using `pipenv`: `pipenv install django==3.1.2 celery redis django-celery-beat django-celery-results`\n",
    "\n",
    "> If you're working in `jupyter` (not recommended at this point in the project):` !pip install django==3.1.2 celery redis django-celery-beat django-celery-results`"
   ]
  },
  {
   "cell_type": "markdown",
   "metadata": {},
   "source": [
    "## Start Django Project\n",
    "\n",
    "```console\n",
    "django-admin startproject time_tasks .\n",
    "```\n",
    "\n",
    "Let's confirm it's installed:\n",
    "\n",
    "```console\n",
    "ls\n",
    "```\n",
    "Result should be:\n",
    "```\n",
    "manage.py time_tasks \n",
    "```\n",
    "> You may see virtual environment files and folders as well."
   ]
  },
  {
   "cell_type": "code",
   "execution_count": null,
   "metadata": {},
   "outputs": [],
   "source": []
  },
  {
   "cell_type": "code",
   "execution_count": null,
   "metadata": {},
   "outputs": [],
   "source": []
  },
  {
   "cell_type": "code",
   "execution_count": null,
   "metadata": {},
   "outputs": [],
   "source": []
  }
 ],
 "metadata": {
  "kernelspec": {
   "display_name": "Python 3",
   "language": "python",
   "name": "python3"
  },
  "language_info": {
   "codemirror_mode": {
    "name": "ipython",
    "version": 3
   },
   "file_extension": ".py",
   "mimetype": "text/x-python",
   "name": "python",
   "nbconvert_exporter": "python",
   "pygments_lexer": "ipython3",
   "version": "3.8.5"
  }
 },
 "nbformat": 4,
 "nbformat_minor": 4
}
